{
  "cells": [
    {
      "cell_type": "code",
      "execution_count": 43,
      "metadata": {
        "id": "yLQR2FYdIKl2"
      },
      "outputs": [],
      "source": [
        "import requests\n",
        "from bs4 import BeautifulSoup\n",
        "import bs4\n",
        "import html\n",
        "import re"
      ]
    },
    {
      "cell_type": "code",
      "execution_count": null,
      "metadata": {
        "id": "96KgPTeLJcos"
      },
      "outputs": [],
      "source": [
        "main_url = \"https://devgan.in/ipc\""
      ]
    },
    {
      "cell_type": "code",
      "execution_count": null,
      "metadata": {
        "id": "0fitxxrgJhuj"
      },
      "outputs": [],
      "source": [
        "page = requests.get(main_url)"
      ]
    },
    {
      "cell_type": "code",
      "execution_count": null,
      "metadata": {
        "id": "yBO4hUUE3_ve"
      },
      "outputs": [],
      "source": [
        "page.text"
      ]
    },
    {
      "cell_type": "code",
      "execution_count": null,
      "metadata": {
        "id": "SiEA2qNf4OmH"
      },
      "outputs": [],
      "source": [
        "page.content"
      ]
    },
    {
      "cell_type": "code",
      "execution_count": null,
      "metadata": {
        "id": "nSqlhRRmJmZX"
      },
      "outputs": [],
      "source": [
        "soup = BeautifulSoup(page.content, 'html.parser')"
      ]
    },
    {
      "cell_type": "code",
      "execution_count": null,
      "metadata": {
        "id": "xskFYlQHJnYw"
      },
      "outputs": [],
      "source": [
        "menu_links = soup.select('.menu tr td a')"
      ]
    },
    {
      "cell_type": "code",
      "execution_count": null,
      "metadata": {
        "id": "0mX-7edpQs3V"
      },
      "outputs": [],
      "source": [
        "links_list = [link.get('href')[5:] for link in menu_links]"
      ]
    },
    {
      "cell_type": "code",
      "execution_count": null,
      "metadata": {
        "id": "6tTum-BCQ4jd"
      },
      "outputs": [],
      "source": [
        "links_list"
      ]
    },
    {
      "cell_type": "code",
      "execution_count": null,
      "metadata": {
        "id": "dH9twh8R21dj"
      },
      "outputs": [],
      "source": [
        "link_urls = [(main_url+\"/\"+link, link[:-4]) for link in links_list]"
      ]
    },
    {
      "cell_type": "code",
      "execution_count": null,
      "metadata": {
        "id": "W1xB8t8C2q-h"
      },
      "outputs": [],
      "source": [
        "link_urls"
      ]
    },
    {
      "cell_type": "code",
      "execution_count": null,
      "metadata": {
        "id": "IQ7-ATEZR348"
      },
      "outputs": [],
      "source": [
        "base_url = \"https://devgan.in/ipc\""
      ]
    },
    {
      "cell_type": "markdown",
      "metadata": {
        "id": "rhCdLzPcfUqm"
      },
      "source": [
        "### Extracting text from content html"
      ]
    },
    {
      "cell_type": "code",
      "execution_count": null,
      "metadata": {
        "id": "dUEBsLQkn24C"
      },
      "outputs": [],
      "source": [
        "page1 = requests.get('https://devgan.in/ipc/chapter_01.php')"
      ]
    },
    {
      "cell_type": "code",
      "execution_count": 49,
      "metadata": {
        "id": "IIopNT8pfko5"
      },
      "outputs": [],
      "source": [
        "def get_text(tag: bs4.Tag) -> str:\n",
        "    _inline_elements = {\"a\",\"span\",\"em\",\"strong\",\"u\",\"i\",\"font\",\"mark\",\"label\",\n",
        "    \"s\",\"sub\",\"sup\",\"tt\",\"bdo\",\"button\",\"cite\",\"del\",\"b\",\"a\",\"font\",}\n",
        "\n",
        "    for element in tag(text=lambda text: isinstance(text, bs4.Comment)):\n",
        "      element.extract()\n",
        "\n",
        "    def _get_text(tag: bs4.Tag):\n",
        "        for child in tag.children:\n",
        "\n",
        "            if isinstance(child, bs4.Tag):\n",
        "                # if the tag is a block type tag then yield new lines before after\n",
        "                is_block_element = child.name not in _inline_elements\n",
        "                if is_block_element:\n",
        "                    yield \"\\n\"\n",
        "                yield from [\"\\n\"] if child.name == \"br\" else _get_text(child)\n",
        "                if is_block_element:\n",
        "                    yield \"\\n\"\n",
        "            elif isinstance(child, bs4.NavigableString):\n",
        "                yield child.string\n",
        "\n",
        "    return re.sub(r'\\n\\s*\\n', '\\n', \"\".join(_get_text(tag)))"
      ]
    },
    {
      "cell_type": "code",
      "execution_count": null,
      "metadata": {
        "id": "lbZtGO3dflOd"
      },
      "outputs": [],
      "source": [
        "soup1 = BeautifulSoup(page1.text, 'html.parser')\n",
        "content1 = soup1.find('div', id='content')\n",
        "print(get_text(content1))"
      ]
    },
    {
      "cell_type": "code",
      "execution_count": 45,
      "metadata": {
        "id": "CFoeULmXflgi"
      },
      "outputs": [],
      "source": []
    },
    {
      "cell_type": "code",
      "execution_count": null,
      "metadata": {
        "id": "FVT-5NDkflvW"
      },
      "outputs": [],
      "source": []
    },
    {
      "cell_type": "markdown",
      "metadata": {
        "id": "6FfCdiUC1NRS"
      },
      "source": [
        "## final conversion\n"
      ]
    },
    {
      "cell_type": "code",
      "execution_count": 46,
      "metadata": {
        "id": "c0soJsxwizNL"
      },
      "outputs": [],
      "source": [
        "from concurrent.futures import ThreadPoolExecutor\n",
        "import os"
      ]
    },
    {
      "cell_type": "code",
      "execution_count": null,
      "metadata": {
        "id": "vXxr11Et1jDN"
      },
      "outputs": [],
      "source": [
        "os.makedirs('pages', exist_ok=True)"
      ]
    },
    {
      "cell_type": "code",
      "execution_count": null,
      "metadata": {
        "id": "uhjYSSYD1Oh4"
      },
      "outputs": [],
      "source": [
        "def download(url):\n",
        "  pg = requests.get(url[0])\n",
        "  with open(f'pages/{url[1]}.txt', 'w') as f:\n",
        "    f.write(pg.text)"
      ]
    },
    {
      "cell_type": "code",
      "execution_count": null,
      "metadata": {
        "id": "t6aXsM6W2boG"
      },
      "outputs": [],
      "source": []
    },
    {
      "cell_type": "code",
      "execution_count": null,
      "metadata": {
        "id": "mw-FyxY92ZEi"
      },
      "outputs": [],
      "source": [
        "# download html files\n",
        "with ThreadPoolExecutor(max_workers=16) as executor:\n",
        "    executor.map(download, link_urls)  # urls=[list of url]\n"
      ]
    },
    {
      "cell_type": "code",
      "execution_count": 51,
      "metadata": {
        "id": "AVE6zcDALcKY"
      },
      "outputs": [],
      "source": [
        "# extract data from html\n",
        "for _, name in link_urls:\n",
        "  with open(f'pages/{name}.txt', 'r') as f:\n",
        "    pgdata = f.read()\n",
        "    sp = BeautifulSoup(pgdata, 'html.parser')\n",
        "    c1 = sp.find('div', id='content')\n",
        "    out = get_text(c1)\n",
        "    with open('raw_main.txt','a') as f1:\n",
        "      f1.write(out)"
      ]
    },
    {
      "cell_type": "code",
      "execution_count": null,
      "metadata": {
        "id": "_Aii5BquTIwm"
      },
      "outputs": [],
      "source": []
    }
  ],
  "metadata": {
    "colab": {
      "provenance": []
    },
    "kernelspec": {
      "display_name": "Python 3",
      "name": "python3"
    },
    "language_info": {
      "name": "python"
    }
  },
  "nbformat": 4,
  "nbformat_minor": 0
}

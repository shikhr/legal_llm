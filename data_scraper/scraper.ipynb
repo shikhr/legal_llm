{
  "nbformat": 4,
  "nbformat_minor": 0,
  "metadata": {
    "colab": {
      "provenance": []
    },
    "kernelspec": {
      "name": "python3",
      "display_name": "Python 3"
    },
    "language_info": {
      "name": "python"
    }
  },
  "cells": [
    {
      "cell_type": "code",
      "execution_count": 64,
      "metadata": {
        "id": "yLQR2FYdIKl2"
      },
      "outputs": [],
      "source": [
        "import requests\n",
        "from bs4 import BeautifulSoup\n"
      ]
    },
    {
      "cell_type": "code",
      "source": [
        "main_url = \"https://devgan.in/ipc\""
      ],
      "metadata": {
        "id": "96KgPTeLJcos"
      },
      "execution_count": 65,
      "outputs": []
    },
    {
      "cell_type": "code",
      "source": [
        "page = requests.get(main_url)"
      ],
      "metadata": {
        "id": "0fitxxrgJhuj"
      },
      "execution_count": 66,
      "outputs": []
    },
    {
      "cell_type": "code",
      "source": [
        "soup = BeautifulSoup(page.content, 'html.parser')"
      ],
      "metadata": {
        "id": "nSqlhRRmJmZX"
      },
      "execution_count": 67,
      "outputs": []
    },
    {
      "cell_type": "code",
      "source": [
        "menu_links = soup.select('.menu tr td a')"
      ],
      "metadata": {
        "id": "xskFYlQHJnYw"
      },
      "execution_count": 68,
      "outputs": []
    },
    {
      "cell_type": "code",
      "source": [
        "links_list = [link.get('href') for link in menu_links]"
      ],
      "metadata": {
        "id": "0mX-7edpQs3V"
      },
      "execution_count": 74,
      "outputs": []
    },
    {
      "cell_type": "code",
      "source": [
        "links_list"
      ],
      "metadata": {
        "colab": {
          "base_uri": "https://localhost:8080/"
        },
        "id": "6tTum-BCQ4jd",
        "outputId": "1021e264-f62c-4257-fe10-fa63e78087e9"
      },
      "execution_count": 75,
      "outputs": [
        {
          "output_type": "execute_result",
          "data": {
            "text/plain": [
              "['/ipc/chapter_01.php',\n",
              " '/ipc/chapter_02.php',\n",
              " '/ipc/chapter_03.php',\n",
              " '/ipc/chapter_04.php',\n",
              " '/ipc/chapter_05.php',\n",
              " '/ipc/chapter_05a.php',\n",
              " '/ipc/chapter_06.php',\n",
              " '/ipc/chapter_07.php',\n",
              " '/ipc/chapter_08.php',\n",
              " '/ipc/chapter_09.php',\n",
              " '/ipc/chapter_09a.php',\n",
              " '/ipc/chapter_10.php',\n",
              " '/ipc/chapter_11.php',\n",
              " '/ipc/chapter_12.php',\n",
              " '/ipc/chapter_13.php',\n",
              " '/ipc/chapter_14.php',\n",
              " '/ipc/chapter_15.php',\n",
              " '/ipc/chapter_16.php',\n",
              " '/ipc/chapter_17.php',\n",
              " '/ipc/chapter_18.php',\n",
              " '/ipc/chapter_19.php',\n",
              " '/ipc/chapter_20.php',\n",
              " '/ipc/chapter_20a.php',\n",
              " '/ipc/chapter_21.php',\n",
              " '/ipc/chapter_22.php',\n",
              " '/ipc/chapter_23.php']"
            ]
          },
          "metadata": {},
          "execution_count": 75
        }
      ]
    },
    {
      "cell_type": "code",
      "source": [],
      "metadata": {
        "id": "BolRNN2BRjWQ"
      },
      "execution_count": 71,
      "outputs": []
    },
    {
      "cell_type": "code",
      "source": [
        "base_url = \"https://devgan.in/ipc\""
      ],
      "metadata": {
        "id": "IQ7-ATEZR348"
      },
      "execution_count": 72,
      "outputs": []
    },
    {
      "cell_type": "code",
      "source": [
        "# get each section text data\n"
      ],
      "metadata": {
        "id": "wsW51YraR5Q_"
      },
      "execution_count": null,
      "outputs": []
    }
  ]
}